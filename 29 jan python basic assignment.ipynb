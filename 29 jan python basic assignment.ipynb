{
 "cells": [
  {
   "cell_type": "raw",
   "id": "d77403a8-66e4-457c-b0f5-e83436711621",
   "metadata": {},
   "source": [
    "1. Who Developed python programming language?\n",
    "- Python was created by Guido van Rossum and first released on february 20,1991 at CWI Netherlands. While you may know \n",
    "  the python as a large snake, the name of the python programming language comes from an old bbc television\n",
    "  comedy sketch series called Monty Python's Flying Circus."
   ]
  },
  {
   "cell_type": "raw",
   "id": "63cd682c-3896-4699-bdf6-91610ffd85b9",
   "metadata": {},
   "source": [
    "2. Which type of programming does python support?\n",
    "- Python is an interpreted programming language, supporting object-oriented, structured, and functional programming."
   ]
  },
  {
   "cell_type": "raw",
   "id": "7c728223-8c02-4792-975f-a3e010446302",
   "metadata": {},
   "source": [
    "3. Is python is case sensitive when dealing with identifiers?\n",
    " - Yes, Python is a case-sensitive language, i.e., it treats uppercase and lowercase characters differently. This applies to identifiers too. You must avoid using the same name with different cases while naming identifiers. It is always good to use names that are more easily understood."
   ]
  },
  {
   "cell_type": "raw",
   "id": "ff0ce5ef-bf91-4f68-a5b8-236e74883542",
   "metadata": {},
   "source": [
    "4. What is correct extention of python file?\n",
    " - Python file extensions are .py .pyi .pyc .pyd .pyo .pyw .pyz."
   ]
  },
  {
   "cell_type": "raw",
   "id": "372eb9e0-2179-47dc-bd48-197d937a9742",
   "metadata": {},
   "source": [
    "5. Is python code compiled and interpreted?\n",
    " - Python is an interpreted language, which means the source code of a Python program is converted into bytecode that is then executed by the Python virtual machine."
   ]
  },
  {
   "cell_type": "raw",
   "id": "6cd65f7e-fa23-4e05-9580-408a3e518394",
   "metadata": {},
   "source": [
    "6. Name a few blocks of code used to define in Python language?\n",
    " - Indentation is used to define a block of code in python. Braces {} are used to define a block of code in most programming languages, like C, C++, and Java. But this indentation makes python unique among all programming languages.\n",
    "\n",
    "This indentation highlights the block of code. In Python, indentation is done with whitespace. All statements with the same right-hand distance belong to the same code block. If a block needs to be more nested, it is indented to the right."
   ]
  },
  {
   "cell_type": "raw",
   "id": "4c768067-2451-4348-a0ed-729b83a59f9a",
   "metadata": {},
   "source": [
    "7. State a character used to give single-line comments in python?\n",
    " - Hash character(#) is used to comment the line in the Python program. Comments does not have to be text to explain the code, it can also be used to prevent Python from executing code"
   ]
  },
  {
   "cell_type": "raw",
   "id": "77ad25d5-d333-4672-b69d-a5dd8d5cdea5",
   "metadata": {},
   "source": [
    "8. Mention functions which can help us to find the version of python that we are currently working on?\n",
    "-  The function sys. version can help us to find the version of python that we are currently working on."
   ]
  },
  {
   "cell_type": "raw",
   "id": "9448a08c-baa3-4ce6-b6b2-51b8a64ebcfa",
   "metadata": {},
   "source": [
    "9. Python supports the creation of anonymous functions at runtime, using a construct called \n",
    " - lambda"
   ]
  },
  {
   "cell_type": "raw",
   "id": "3a22a8af-c1ba-4024-9218-5acd559f939b",
   "metadata": {},
   "source": [
    "10. What does pip stand for python?\n",
    " - Developed in 2008, pip (an acronym of “pip Install Packages”) is today the standard tool for installing Python packages and their dependencies in a secure manner. Most recent distributions of Python come with pip preinstalled. Python 2.7. 9 and Python 3.4 and later versions include pip by default."
   ]
  },
  {
   "cell_type": "raw",
   "id": "4559d38e-73d3-4175-8f2b-8eb1b0f0a6b4",
   "metadata": {},
   "source": [
    "11. Mention a few built-in function in python?\n",
    " - Built-in function in python are :-\n",
    "  1. Type()\n",
    "  2. Extend\n",
    "  3. Append\n",
    "  4. Capitaliztion\n",
    "  5. Lower\n",
    "  6. Upper\n",
    "  7. Title\n",
    "  8. Input\n",
    "  9. Insert \n",
    "  10. Range\n",
    "  and much more."
   ]
  },
  {
   "cell_type": "raw",
   "id": "7e930c18-2ed2-4ae2-9f27-6a7525deb3ac",
   "metadata": {},
   "source": [
    "12. What is the maximum possible length of an identifier in python?\n",
    " -  An identifier can have a maximum length of 79 characters in Python."
   ]
  },
  {
   "cell_type": "raw",
   "id": "04dace72-ffd2-40ee-bb31-b859b3a78339",
   "metadata": {},
   "source": [
    "13. What are the benefits of using python?\n",
    " - Python programming language is a general-purpose, interpreted, and high-level language that mainly offers code readability. It is largely used by professional programmers and developers across a variety of fields, including Web Development and Machine Learning."
   ]
  },
  {
   "cell_type": "raw",
   "id": "4595c038-2b36-40b5-952f-756d4c064856",
   "metadata": {},
   "source": [
    "14. How is memory managed in python?\n",
    " - The memory is a heap that stores the program's objects and other data structures. The Python memory manager uses API methods to handle the allocation and deallocation of this heap space."
   ]
  },
  {
   "cell_type": "raw",
   "id": "b8cc0542-1f6a-41b5-8c46-453ddb9b1b72",
   "metadata": {},
   "source": [
    "15. How to install python on windows and set path variables?\n",
    "  -  Right-clicking This PC and going to Properties.\n",
    "\n",
    "Clicking on the Advanced system settings in the menu on the left.\n",
    "\n",
    "Clicking on the Environment Variables button o​n the bottom right.\n",
    "\n",
    "In the System variables section, selecting the Path variable and clicking on Edit. The next screen will show all the directories that are currently a part of the PATH variable.\n",
    "\n",
    "Clicking on New and entering Python’s install directory.\n"
   ]
  },
  {
   "cell_type": "raw",
   "id": "96a5edd0-0a83-4a97-9d14-a6e10f30c98f",
   "metadata": {},
   "source": [
    "16. Is Indentation is required in python?\n",
    " - Yes."
   ]
  }
 ],
 "metadata": {
  "kernelspec": {
   "display_name": "Python 3 (ipykernel)",
   "language": "python",
   "name": "python3"
  },
  "language_info": {
   "codemirror_mode": {
    "name": "ipython",
    "version": 3
   },
   "file_extension": ".py",
   "mimetype": "text/x-python",
   "name": "python",
   "nbconvert_exporter": "python",
   "pygments_lexer": "ipython3",
   "version": "3.10.8"
  }
 },
 "nbformat": 4,
 "nbformat_minor": 5
}
