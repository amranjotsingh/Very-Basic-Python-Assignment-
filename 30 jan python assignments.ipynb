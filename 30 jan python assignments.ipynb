{
 "cells": [
  {
   "cell_type": "code",
   "execution_count": null,
   "id": "1ad123a4-237d-4be7-a01c-4ae8e1c84fbf",
   "metadata": {},
   "outputs": [],
   "source": [
    "#  Question first!"
   ]
  },
  {
   "cell_type": "code",
   "execution_count": 19,
   "id": "48672fb2-c166-40c5-884e-a6f89bc64e50",
   "metadata": {},
   "outputs": [
    {
     "name": "stdin",
     "output_type": "stream",
     "text": [
      "Enter Your Marks 60\n"
     ]
    },
    {
     "name": "stdout",
     "output_type": "stream",
     "text": [
      "C Grade\n"
     ]
    }
   ],
   "source": [
    "marks = int(input(\"Enter Your Marks\"))\n",
    "if marks >90:\n",
    "    print(\"A Grade\")\n",
    "elif marks >80 and marks <=90:\n",
    "    print(\"B Grade\")\n",
    "elif marks >=60 and marks <=80:\n",
    "    print(\"C Grade\")\n",
    "else:\n",
    "    print(\"D Grade\")"
   ]
  },
  {
   "cell_type": "code",
   "execution_count": 20,
   "id": "54d496e1-7844-498e-adb0-b5795cc3c237",
   "metadata": {},
   "outputs": [],
   "source": [
    "# Second Question."
   ]
  },
  {
   "cell_type": "code",
   "execution_count": 3,
   "id": "9a44f5b2-52aa-4ac9-a516-329c2381a080",
   "metadata": {},
   "outputs": [
    {
     "name": "stdin",
     "output_type": "stream",
     "text": [
      "Enter Cost Price of a bike 75000\n"
     ]
    },
    {
     "name": "stdout",
     "output_type": "stream",
     "text": [
      "Tax to be Paid = 7500.0\n"
     ]
    }
   ],
   "source": [
    "cost = int(input(\"Enter Cost Price of a bike\"))\n",
    "tax = 15/100\n",
    "tax1 = 10/100\n",
    "tax2 = 5/100\n",
    "if cost >100000:\n",
    "    print(\"Tax to be Paid\", \"=\", cost*tax)\n",
    "elif cost>50000 and cost<=100000:\n",
    "    print(\"Tax to be Paid\", \"=\", cost*tax1)\n",
    "elif cost<=50000:\n",
    "    print(\"Tax to be Paid\", \"=\", cost*tax2)"
   ]
  },
  {
   "cell_type": "code",
   "execution_count": 4,
   "id": "6335c179-03e7-4eec-981b-f83ac5070f61",
   "metadata": {},
   "outputs": [],
   "source": [
    "# Accept any city from the user and display monuments of that city"
   ]
  },
  {
   "cell_type": "code",
   "execution_count": 13,
   "id": "215841b8-3828-4050-9c3f-b635d835d14d",
   "metadata": {},
   "outputs": [
    {
     "name": "stdin",
     "output_type": "stream",
     "text": [
      "Enter City name here to get monuments of that city Jaipur\n"
     ]
    },
    {
     "name": "stdout",
     "output_type": "stream",
     "text": [
      "Jal Mahal\n"
     ]
    }
   ],
   "source": [
    "city = input(\"Enter City name here to get monuments of that city\")\n",
    "a = \"Delhi\"\n",
    "b = \"Agra\"\n",
    "c = \"Jaipur\"\n",
    "if city == a:\n",
    "    print(\"Red fort\")\n",
    "elif city == b:\n",
    "    print(\"Taj Mahal\")\n",
    "elif city == c:\n",
    "    print(\"Jal Mahal\")\n"
   ]
  },
  {
   "cell_type": "raw",
   "id": "7a749587-3f9b-407b-9bea-17bb6b5fcd8a",
   "metadata": {},
   "source": [
    "Python while loop is used to run a block code until a certain condition is met. Here, A while loop evaluates the condition. If the condition evaluates to True , the code inside the while loop is executed.\n",
    "\n",
    "A \"While\" Loop is used to repeat a specific block of code an unknown number of times, until a condition is met. For example, if we want to ask a user for a number between 1 and 10, we don't know how many times the user may enter a larger number, so we keep asking \"while the number is not between 1 and 10\"."
   ]
  },
  {
   "cell_type": "code",
   "execution_count": 34,
   "id": "61dfed4a-7e3f-4569-942b-1d7549f281c3",
   "metadata": {},
   "outputs": [
    {
     "ename": "IndexError",
     "evalue": "range object index out of range",
     "output_type": "error",
     "traceback": [
      "\u001b[0;31m---------------------------------------------------------------------------\u001b[0m",
      "\u001b[0;31mIndexError\u001b[0m                                Traceback (most recent call last)",
      "Cell \u001b[0;32mIn[34], line 5\u001b[0m\n\u001b[1;32m      3\u001b[0m counter \u001b[38;5;241m=\u001b[39m \u001b[38;5;241m1\u001b[39m\n\u001b[1;32m      4\u001b[0m \u001b[38;5;28;01mwhile\u001b[39;00m counter\u001b[38;5;241m<\u001b[39m\u001b[38;5;241m=\u001b[39m\u001b[38;5;241m10\u001b[39m:\n\u001b[0;32m----> 5\u001b[0m     result \u001b[38;5;241m=\u001b[39m result\u001b[38;5;241m+\u001b[39m\u001b[43mn\u001b[49m\u001b[43m[\u001b[49m\u001b[43mlength\u001b[49m\u001b[38;5;241;43m-\u001b[39;49m\u001b[38;5;241;43m1\u001b[39;49m\u001b[43m]\u001b[49m\n\u001b[1;32m      6\u001b[0m     length \u001b[38;5;241m=\u001b[39m length\u001b[38;5;241m-\u001b[39m\u001b[38;5;241m1\u001b[39m\n\u001b[1;32m      7\u001b[0m result\n",
      "\u001b[0;31mIndexError\u001b[0m: range object index out of range"
     ]
    }
   ],
   "source": [
    "n= range(1,11)\n",
    "length = len(n)\n",
    "counter = 1\n",
    "while counter<=10:\n",
    "    result = result+n[length-1]\n",
    "    length = length-1\n",
    "result    "
   ]
  },
  {
   "cell_type": "code",
   "execution_count": 35,
   "id": "2edc58e7-2f3a-46af-acdb-f16dd0b6a6a7",
   "metadata": {},
   "outputs": [
    {
     "data": {
      "text/plain": [
       "10"
      ]
     },
     "execution_count": 35,
     "metadata": {},
     "output_type": "execute_result"
    }
   ],
   "source": [
    "len(n)"
   ]
  },
  {
   "cell_type": "code",
   "execution_count": null,
   "id": "b651ed45-4f30-40c0-a442-1714b0d07c92",
   "metadata": {},
   "outputs": [],
   "source": []
  }
 ],
 "metadata": {
  "kernelspec": {
   "display_name": "Python 3 (ipykernel)",
   "language": "python",
   "name": "python3"
  },
  "language_info": {
   "codemirror_mode": {
    "name": "ipython",
    "version": 3
   },
   "file_extension": ".py",
   "mimetype": "text/x-python",
   "name": "python",
   "nbconvert_exporter": "python",
   "pygments_lexer": "ipython3",
   "version": "3.10.8"
  }
 },
 "nbformat": 4,
 "nbformat_minor": 5
}
